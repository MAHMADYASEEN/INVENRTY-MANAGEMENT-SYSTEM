{
 "cells": [
  {
   "cell_type": "code",
   "execution_count": 1,
   "id": "7eb60a33",
   "metadata": {},
   "outputs": [
    {
     "name": "stdout",
     "output_type": "stream",
     "text": [
      "Welcome to shop\n",
      "Enter the product Id: 1021\n",
      "Enter the quantity of the Product: 2\n",
      "****************************************\n",
      "             product: Dorito's Nacho Chips\n",
      "               price: 90\n",
      "         Expiry date: 22 jan 2023\n",
      " Manufacturing Brand: Dorito's\n",
      "****************************************\n",
      "----------BILLING DETAILS:---------- \n",
      "Total Amount:  180\n",
      "Enjoy Your Day\n",
      "Thank You. Visit Again\n",
      "**********************************\n"
     ]
    },
    {
     "ename": "FileNotFoundError",
     "evalue": "[Errno 2] No such file or directory: 'sales.json'",
     "output_type": "error",
     "traceback": [
      "\u001b[1;31m---------------------------------------------------------------------------\u001b[0m",
      "\u001b[1;31mFileNotFoundError\u001b[0m                         Traceback (most recent call last)",
      "\u001b[1;32m<ipython-input-1-a919f9923079>\u001b[0m in \u001b[0;36m<module>\u001b[1;34m\u001b[0m\n\u001b[0;32m     44\u001b[0m \u001b[1;33m\u001b[0m\u001b[0m\n\u001b[0;32m     45\u001b[0m \u001b[1;31m## The sold items information is stored on sales.json\u001b[0m\u001b[1;33m\u001b[0m\u001b[1;33m\u001b[0m\u001b[1;33m\u001b[0m\u001b[0m\n\u001b[1;32m---> 46\u001b[1;33m \u001b[0mfd\u001b[0m \u001b[1;33m=\u001b[0m \u001b[0mopen\u001b[0m\u001b[1;33m(\u001b[0m\u001b[1;34m\"sales.json\"\u001b[0m\u001b[1;33m,\u001b[0m\u001b[1;34m'r'\u001b[0m\u001b[1;33m)\u001b[0m\u001b[1;33m\u001b[0m\u001b[1;33m\u001b[0m\u001b[0m\n\u001b[0m\u001b[0;32m     47\u001b[0m \u001b[0mtrans\u001b[0m \u001b[1;33m=\u001b[0m \u001b[0mfd\u001b[0m\u001b[1;33m.\u001b[0m\u001b[0mread\u001b[0m\u001b[1;33m(\u001b[0m\u001b[1;33m)\u001b[0m\u001b[1;33m\u001b[0m\u001b[1;33m\u001b[0m\u001b[0m\n\u001b[0;32m     48\u001b[0m \u001b[0mfd\u001b[0m\u001b[1;33m.\u001b[0m\u001b[0mclose\u001b[0m\u001b[1;33m(\u001b[0m\u001b[1;33m)\u001b[0m\u001b[1;33m\u001b[0m\u001b[1;33m\u001b[0m\u001b[0m\n",
      "\u001b[1;31mFileNotFoundError\u001b[0m: [Errno 2] No such file or directory: 'sales.json'"
     ]
    }
   ],
   "source": [
    "import json\n",
    "\n",
    "fd = open(\"products.json\",'r')\n",
    "r = fd.read()\n",
    "fd.close()\n",
    "\n",
    "products = json.loads(r)\n",
    "\n",
    "\n",
    "\n",
    "print(\"Welcome to shop\")\n",
    "\n",
    "\n",
    "ui_prod = input(\"Enter the product Id: \")\n",
    "ui_quan = int(input(\"Enter the quantity of the Product: \"))\n",
    "\n",
    "for i in products.keys():\n",
    "    while ui_prod == i:\n",
    "        if ui_quan <= products[i]['quan']:\n",
    "            print(\"****************************************\")\n",
    "            print(\"             product:\",products[ui_prod]['name'])\n",
    "            print(\"               price:\",products[ui_prod]['price'])\n",
    "            print(\"         Expiry date:\",products[ui_prod]['expiry'])\n",
    "            print(\" Manufacturing Brand:\",products[ui_prod]['brand'])\n",
    "            print(\"****************************************\")\n",
    "            print(\"----------BILLING DETAILS:---------- \")\n",
    "            print(\"Total Amount: \",products[ui_prod]['price']*ui_quan) \n",
    "            print(\"Enjoy Your Day\")\n",
    "            print(\"Thank You. Visit Again\")\n",
    "            print(\"**********************************\")\n",
    "            products[ui_prod][\"quan\"] = products[ui_prod][\"quan\"] - ui_quan\n",
    "        else:\n",
    "            print(\"Sorry. Stock of product you enterd is: \",products[ui_prod]['quan'],\"\\nPlease accept our apologies for this inconvenience\")\n",
    "        break\n",
    "if ui_prod not in products.keys():\n",
    "   print(\"Sorry. No product found for ID: \",ui_prod,\"\\Please enter valid product ID\")\n",
    "    \n",
    "    \n",
    "js = json.dumps(products)\n",
    "\n",
    "fd = open(\"products.json\",'w')\n",
    "fd.write(js)\n",
    "fd.close()\n",
    "\n",
    "## The sold items information is stored on sales.json\n",
    "fd = open(\"sales.json\",'r')\n",
    "trans = fd.read()\n",
    "fd.close()\n",
    "\n",
    "sales = json.loads(trans)\n",
    "num = len(sales)+1\n",
    "\n",
    "sales[num] = {'prod':ui_prod, 'quan' : ui_quan, 'amount': products[ui_prod]['price'] * ui_quan}\n",
    "sale = json.dumps(sales)\n",
    "\n",
    "fd = open(\"sales.json\",'w')\n",
    "fd.write(sale)\n",
    "fd.close()"
   ]
  },
  {
   "cell_type": "code",
   "execution_count": null,
   "id": "f5b0e866",
   "metadata": {},
   "outputs": [],
   "source": []
  }
 ],
 "metadata": {
  "kernelspec": {
   "display_name": "Python 3",
   "language": "python",
   "name": "python3"
  },
  "language_info": {
   "codemirror_mode": {
    "name": "ipython",
    "version": 3
   },
   "file_extension": ".py",
   "mimetype": "text/x-python",
   "name": "python",
   "nbconvert_exporter": "python",
   "pygments_lexer": "ipython3",
   "version": "3.8.8"
  }
 },
 "nbformat": 4,
 "nbformat_minor": 5
}
